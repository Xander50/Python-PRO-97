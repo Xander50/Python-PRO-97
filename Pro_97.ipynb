{
  "nbformat": 4,
  "nbformat_minor": 0,
  "metadata": {
    "colab": {
      "provenance": [],
      "authorship_tag": "ABX9TyNsEQ+883LhO7Y2ZGfjjecK",
      "include_colab_link": true
    },
    "kernelspec": {
      "name": "python3",
      "display_name": "Python 3"
    },
    "language_info": {
      "name": "python"
    }
  },
  "cells": [
    {
      "cell_type": "markdown",
      "metadata": {
        "id": "view-in-github",
        "colab_type": "text"
      },
      "source": [
        "<a href=\"https://colab.research.google.com/github/Xander50/Python-PRO-97/blob/main/Pro_97.ipynb\" target=\"_parent\"><img src=\"https://colab.research.google.com/assets/colab-badge.svg\" alt=\"Open In Colab\"/></a>"
      ]
    },
    {
      "cell_type": "code",
      "execution_count": null,
      "metadata": {
        "id": "ctl7ToBilWTJ"
      },
      "outputs": [],
      "source": [
        "year=int(input('Is this year a leap year.'))\n",
        "if(year % 4 == 0 and year % 100 !=0 or year % 400==0):\n",
        "  print(\"The given year is a leap year.\")\n",
        "else:\n",
        "  print(\"The given year is not a leap year.\")"
      ]
    }
  ]
}